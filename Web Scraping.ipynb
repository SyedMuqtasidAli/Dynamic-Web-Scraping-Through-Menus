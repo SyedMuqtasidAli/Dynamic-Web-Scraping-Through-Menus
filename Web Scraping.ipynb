{
 "cells": [
  {
   "cell_type": "code",
   "execution_count": 9,
   "id": "8073197b-504b-49c1-a3eb-76653ee6f2f0",
   "metadata": {
    "tags": []
   },
   "outputs": [],
   "source": [
    "import requests\n",
    "from bs4 import BeautifulSoup\n",
    "import pandas as pd\n",
    "import time\n",
    "from selenium import webdriver"
   ]
  },
  {
   "cell_type": "code",
   "execution_count": 14,
   "id": "ecf6dd57-1cad-4ae2-9c7c-f60166b873f2",
   "metadata": {
    "tags": []
   },
   "outputs": [],
   "source": [
    "# creating a variable called 'url' and using the requests.get function to store content of the site to the variable data\n",
    "url = 'https://www.hyattrestaurants.com/en/dining/india/kochi/malabar-caf%C3%A9-restaurant-menu#5f322c618741d25d205fdf52'\n",
    "data = requests.get(url)"
   ]
  },
  {
   "cell_type": "markdown",
   "id": "61257952-9362-4771-a5d7-8af5ea989c7f",
   "metadata": {},
   "source": [
    "### When you creating your web-driver for first time you will get error of exe. file of web driver,to solve this error follow this step:\n",
    "1- https://chromedriver.chromium.org/downloads go to this link and download web driver exe. file\n",
    "\n",
    "2- Then extract the downloadable file \n",
    "\n",
    "3- then copy the path and pase on driver chrome path as a executable path then you driver path will work\n",
    "\n",
    "# Note "
   ]
  },
  {
   "cell_type": "code",
   "execution_count": 15,
   "id": "133efd36-9f94-4e32-9927-d4ca4d254743",
   "metadata": {
    "tags": []
   },
   "outputs": [],
   "source": [
    "#creating a variable 'driver' and storing the chromedriver path to this variable\n",
    "driver = webdriver.Chrome(executable_path=r\"C:\\Users\\Syed Muqtasid Ali\\Downloads\\Compressed\\chromedriver_win32\\chromedriver.exe\")"
   ]
  },
  {
   "cell_type": "code",
   "execution_count": 16,
   "id": "cfe00cd9-039b-48e9-8b7c-0b2dca593919",
   "metadata": {
    "tags": []
   },
   "outputs": [],
   "source": [
    "#Automating creation of a new window with selenium's driver\n",
    "#Scrolling to the end of the page to ensure all information is captured\n",
    "#rate-limiting requests after 2 secs\n",
    "driver.get(url)\n",
    "driver.execute_script(\"window.scrollTo(1,20000)\")\n",
    "time.sleep(2)"
   ]
  },
  {
   "cell_type": "code",
   "execution_count": 17,
   "id": "08a52d8a-7915-4fdf-8a1d-aac6fac6cdc1",
   "metadata": {
    "tags": []
   },
   "outputs": [],
   "source": [
    "#Storing the content of the page to variable 'html'\n",
    "html = driver.page_source"
   ]
  },
  {
   "cell_type": "code",
   "execution_count": 18,
   "id": "ad58458a-36d5-4672-b3c9-a92db82b520c",
   "metadata": {
    "tags": []
   },
   "outputs": [],
   "source": [
    "#writing content of the page to a new file to store data, this way we don't have to scrape Hyatt Malabar cafe everytime\n",
    "with open(\"hyatt_malabar_cafe_menu.html\", \"w+\",encoding='utf-8', errors='backslashreplace') as f:\n",
    "    f.write(html)"
   ]
  },
  {
   "cell_type": "code",
   "execution_count": 19,
   "id": "4a5d1060-ba09-41b8-a882-1028e4594762",
   "metadata": {
    "tags": []
   },
   "outputs": [],
   "source": [
    "#reading the content of Hyatt Malabar cafe and storing it to variable 'hyatt_full_data'\n",
    "with open(\"hyatt_malabar_cafe_menu.html\", \"r\",encoding='utf-8', errors='backslashreplace') as f:\n",
    "    hyatt_full_data = f.read()"
   ]
  },
  {
   "cell_type": "code",
   "execution_count": 20,
   "id": "86e3e8eb-42f5-4acb-b123-1cd360d42c74",
   "metadata": {
    "tags": []
   },
   "outputs": [],
   "source": [
    "#here i'm using Beautiful soup's html parser to parse data into a more structured format and storing this in variable 'soup'\n",
    "soup = BeautifulSoup(hyatt_full_data, 'html.parser')"
   ]
  },
  {
   "cell_type": "markdown",
   "id": "66d52187-0920-4d87-bf58-8adbc119a897",
   "metadata": {},
   "source": [
    "### \n",
    "### Manually do the inspection of Hyatt Malabar Cafe website to study the structure of the website to scrape data After inspection, I came to know that all the menu information is contained within a div with a class called 'listing_content'"
   ]
  },
  {
   "cell_type": "code",
   "execution_count": 21,
   "id": "9d0b7eb5-21f7-4cca-93c4-11c296eb92e7",
   "metadata": {
    "tags": []
   },
   "outputs": [],
   "source": [
    "hyatt_full_clean = soup.find_all(\"div\", class_=\"listing_content\")"
   ]
  },
  {
   "cell_type": "code",
   "execution_count": 22,
   "id": "68066888-4a19-4801-bb0a-9a58a78c7839",
   "metadata": {
    "tags": []
   },
   "outputs": [],
   "source": [
    "# convert the content of 'menu-item-container' to a list so I can iterate easily\n",
    "full_lunch_dinner_menu = list(hyatt_full_clean)"
   ]
  },
  {
   "cell_type": "code",
   "execution_count": 23,
   "id": "3979c94e-d918-41f6-952b-9cce28f5ee7f",
   "metadata": {
    "tags": []
   },
   "outputs": [
    {
     "data": {
      "text/plain": [
       "'Kerala Beef Fry'"
      ]
     },
     "execution_count": 23,
     "metadata": {},
     "output_type": "execute_result"
    }
   ],
   "source": [
    "# To find the name of the item\n",
    "full_lunch_dinner_menu[9].contents[3].text.strip()"
   ]
  },
  {
   "cell_type": "code",
   "execution_count": 24,
   "id": "59c6b460-20d2-421f-a5c0-04d5a2af30a3",
   "metadata": {
    "tags": []
   },
   "outputs": [
    {
     "data": {
      "text/plain": [
       "'10'"
      ]
     },
     "execution_count": 24,
     "metadata": {},
     "output_type": "execute_result"
    }
   ],
   "source": [
    "full_lunch_dinner_menu[9].contents[1].text.strip()\n",
    "#Gives Index"
   ]
  },
  {
   "cell_type": "code",
   "execution_count": 25,
   "id": "3bdf1093-1209-45fe-a4df-98ad647f49cc",
   "metadata": {
    "tags": []
   },
   "outputs": [
    {
     "data": {
      "text/plain": [
       "'Fried Spicy Beef. 183 Cal. Per 100g Serving'"
      ]
     },
     "execution_count": 25,
     "metadata": {},
     "output_type": "execute_result"
    }
   ],
   "source": [
    "# To find the description of the dishes\n",
    "full_lunch_dinner_menu[9].contents[7].text.strip()"
   ]
  },
  {
   "cell_type": "code",
   "execution_count": 26,
   "id": "d0d97de3-3079-476b-9d66-0cd2e12d8036",
   "metadata": {
    "tags": []
   },
   "outputs": [
    {
     "data": {
      "text/plain": [
       "'₹ 700'"
      ]
     },
     "execution_count": 26,
     "metadata": {},
     "output_type": "execute_result"
    }
   ],
   "source": [
    "# To find the price of the dishes\n",
    "full_lunch_dinner_menu[9].contents[9].text.strip()"
   ]
  },
  {
   "cell_type": "code",
   "execution_count": 27,
   "id": "621e05cf-f9dc-42a0-a04a-fdb58bea3ddc",
   "metadata": {
    "tags": []
   },
   "outputs": [],
   "source": [
    "# Creating empty list to store data\n",
    "item = []\n",
    "item_description = []\n",
    "item_price = []\n",
    "# Only 69 items are present\n",
    "for i in range(1,69):\n",
    "    # Listing all items under 'listing_content'\n",
    "    menu = list(soup.find_all(\"div\", class_=\"listing_content\"))[i]\n",
    "    # Storing the values of name, price and description of each item as the loop goes through each iteration\n",
    "    try:\n",
    "        food = menu.contents[3].text.strip()\n",
    "        food_description = menu.contents[7].text.strip()\n",
    "        food_price = menu.contents[9].text.strip()\n",
    "    except:\n",
    "        food = \"\"\n",
    "        food_description = \"\"\n",
    "        food_price = \"\"\n",
    "    # Append the list created initially with the respective values of name, description and price as the loop progresses\n",
    "    item.append(food)\n",
    "    item_description.append(food_description)\n",
    "    item_price.append(food_price)"
   ]
  },
  {
   "cell_type": "code",
   "execution_count": 28,
   "id": "0978a3dd-4619-46fe-b242-10e1fc910f05",
   "metadata": {
    "tags": []
   },
   "outputs": [],
   "source": [
    "full_lunch_dinner_menu = pd.DataFrame({\n",
    "    'Name':item,\n",
    "    'Description':item_description,\n",
    "    'Price':item_price\n",
    "})"
   ]
  },
  {
   "cell_type": "code",
   "execution_count": 29,
   "id": "b98c6d4f-75ce-404b-a405-efb5ad8459ca",
   "metadata": {
    "tags": []
   },
   "outputs": [
    {
     "data": {
      "text/html": [
       "<div>\n",
       "<style scoped>\n",
       "    .dataframe tbody tr th:only-of-type {\n",
       "        vertical-align: middle;\n",
       "    }\n",
       "\n",
       "    .dataframe tbody tr th {\n",
       "        vertical-align: top;\n",
       "    }\n",
       "\n",
       "    .dataframe thead th {\n",
       "        text-align: right;\n",
       "    }\n",
       "</style>\n",
       "<table border=\"1\" class=\"dataframe\">\n",
       "  <thead>\n",
       "    <tr style=\"text-align: right;\">\n",
       "      <th></th>\n",
       "      <th>Name</th>\n",
       "      <th>Description</th>\n",
       "      <th>Price</th>\n",
       "    </tr>\n",
       "  </thead>\n",
       "  <tbody>\n",
       "    <tr>\n",
       "      <th>0</th>\n",
       "      <td>Pickled Cucumber, Cherry Tomato And Burrata Salad</td>\n",
       "      <td>Toasted Almonds. 176 Cal. Per 100g Serving</td>\n",
       "      <td>₹ 650</td>\n",
       "    </tr>\n",
       "    <tr>\n",
       "      <th>1</th>\n",
       "      <td>Caesar Salad</td>\n",
       "      <td>Chicken. 163 Cal. Per 100g Serving</td>\n",
       "      <td>₹ 600</td>\n",
       "    </tr>\n",
       "    <tr>\n",
       "      <th>2</th>\n",
       "      <td>Caesar Salad</td>\n",
       "      <td>Prawn - Crispy Romaine, Chargrilled Chicken/ P...</td>\n",
       "      <td>₹ 750</td>\n",
       "    </tr>\n",
       "    <tr>\n",
       "      <th>3</th>\n",
       "      <td>Malabar Shrimp Cocktail</td>\n",
       "      <td>Poached Shrimp With Black Pepper Mayonnaise, Q...</td>\n",
       "      <td>₹ 700</td>\n",
       "    </tr>\n",
       "    <tr>\n",
       "      <th>4</th>\n",
       "      <td>Malabar Café Cutlet</td>\n",
       "      <td>Beetroot, Kandhari Chili, Fennel. 210 Cal. Per...</td>\n",
       "      <td>₹ 450</td>\n",
       "    </tr>\n",
       "    <tr>\n",
       "      <th>...</th>\n",
       "      <td>...</td>\n",
       "      <td>...</td>\n",
       "      <td>...</td>\n",
       "    </tr>\n",
       "    <tr>\n",
       "      <th>63</th>\n",
       "      <td>Dal Tadka</td>\n",
       "      <td>Yellow Lentils, Garlic, Cumin, Red Chili. 172 ...</td>\n",
       "      <td>₹ 550</td>\n",
       "    </tr>\n",
       "    <tr>\n",
       "      <th>64</th>\n",
       "      <td>Parippu Pradhaman</td>\n",
       "      <td>Sweet Lentils Simmered In Coconut Milk, Cane S...</td>\n",
       "      <td>₹ 250</td>\n",
       "    </tr>\n",
       "    <tr>\n",
       "      <th>65</th>\n",
       "      <td>Palada</td>\n",
       "      <td>Rice ﬂakes Cooked In Milk, Sugar And Ghee. 207...</td>\n",
       "      <td>₹ 250</td>\n",
       "    </tr>\n",
       "    <tr>\n",
       "      <th>66</th>\n",
       "      <td>Gulab Jamun</td>\n",
       "      <td>Indian Fried Dumpling Soaked In Sugar Syrup. 1...</td>\n",
       "      <td>₹ 350</td>\n",
       "    </tr>\n",
       "    <tr>\n",
       "      <th>67</th>\n",
       "      <td>Angoori Rasmalai</td>\n",
       "      <td>Cottage Cheese Dumpling, Soaked In Sweetened M...</td>\n",
       "      <td>₹ 350</td>\n",
       "    </tr>\n",
       "  </tbody>\n",
       "</table>\n",
       "<p>68 rows × 3 columns</p>\n",
       "</div>"
      ],
      "text/plain": [
       "                                                 Name  \\\n",
       "0   Pickled Cucumber, Cherry Tomato And Burrata Salad   \n",
       "1                                        Caesar Salad   \n",
       "2                                        Caesar Salad   \n",
       "3                             Malabar Shrimp Cocktail   \n",
       "4                                 Malabar Café Cutlet   \n",
       "..                                                ...   \n",
       "63                                          Dal Tadka   \n",
       "64                                  Parippu Pradhaman   \n",
       "65                                             Palada   \n",
       "66                                        Gulab Jamun   \n",
       "67                                   Angoori Rasmalai   \n",
       "\n",
       "                                          Description  Price  \n",
       "0          Toasted Almonds. 176 Cal. Per 100g Serving  ₹ 650  \n",
       "1                  Chicken. 163 Cal. Per 100g Serving  ₹ 600  \n",
       "2   Prawn - Crispy Romaine, Chargrilled Chicken/ P...  ₹ 750  \n",
       "3   Poached Shrimp With Black Pepper Mayonnaise, Q...  ₹ 700  \n",
       "4   Beetroot, Kandhari Chili, Fennel. 210 Cal. Per...  ₹ 450  \n",
       "..                                                ...    ...  \n",
       "63  Yellow Lentils, Garlic, Cumin, Red Chili. 172 ...  ₹ 550  \n",
       "64  Sweet Lentils Simmered In Coconut Milk, Cane S...  ₹ 250  \n",
       "65  Rice ﬂakes Cooked In Milk, Sugar And Ghee. 207...  ₹ 250  \n",
       "66  Indian Fried Dumpling Soaked In Sugar Syrup. 1...  ₹ 350  \n",
       "67  Cottage Cheese Dumpling, Soaked In Sweetened M...  ₹ 350  \n",
       "\n",
       "[68 rows x 3 columns]"
      ]
     },
     "execution_count": 29,
     "metadata": {},
     "output_type": "execute_result"
    }
   ],
   "source": [
    "full_lunch_dinner_menu"
   ]
  },
  {
   "cell_type": "markdown",
   "id": "dd124141-b749-4cf9-8596-d5e37bbe8595",
   "metadata": {},
   "source": [
    "### Saving the dataFrame to a CSV file called \"full_lunch_dinner_menu.csv\" with the index column removed."
   ]
  },
  {
   "cell_type": "code",
   "execution_count": 30,
   "id": "741f1e7a-07dc-43a6-9498-377606f00b3b",
   "metadata": {
    "tags": []
   },
   "outputs": [],
   "source": [
    "df = pd.DataFrame(full_lunch_dinner_menu)\n",
    "\n",
    "# save the dataframe into csv file\n",
    "df.to_csv('full_lunch_dinner_menu.csv', index=False)"
   ]
  },
  {
   "cell_type": "code",
   "execution_count": null,
   "id": "5f183d71-e95a-4ae7-8711-6b348b0120eb",
   "metadata": {},
   "outputs": [],
   "source": []
  }
 ],
 "metadata": {
  "kernelspec": {
   "display_name": "Python 3 (ipykernel)",
   "language": "python",
   "name": "python3"
  },
  "language_info": {
   "codemirror_mode": {
    "name": "ipython",
    "version": 3
   },
   "file_extension": ".py",
   "mimetype": "text/x-python",
   "name": "python",
   "nbconvert_exporter": "python",
   "pygments_lexer": "ipython3",
   "version": "3.10.11"
  }
 },
 "nbformat": 4,
 "nbformat_minor": 5
}
